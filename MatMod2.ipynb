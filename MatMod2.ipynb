{
  "nbformat": 4,
  "nbformat_minor": 0,
  "metadata": {
    "colab": {
      "name": "MatMod2.ipynb",
      "provenance": [],
      "collapsed_sections": []
    },
    "kernelspec": {
      "name": "python3",
      "display_name": "Python 3"
    },
    "language_info": {
      "name": "python"
    }
  },
  "cells": [
    {
      "cell_type": "code",
      "metadata": {
        "colab": {
          "base_uri": "https://localhost:8080/"
        },
        "id": "Wl6VfvArmbOw",
        "outputId": "1d1e930a-ceb3-497a-e71f-7b4769a3c81d"
      },
      "source": [
        "!pip install simpy"
      ],
      "execution_count": 1,
      "outputs": [
        {
          "output_type": "stream",
          "name": "stdout",
          "text": [
            "Collecting simpy\n",
            "  Downloading simpy-4.0.1-py2.py3-none-any.whl (29 kB)\n",
            "Installing collected packages: simpy\n",
            "Successfully installed simpy-4.0.1\n"
          ]
        }
      ]
    },
    {
      "cell_type": "code",
      "metadata": {
        "id": "mQKK0V0gF9W9"
      },
      "source": [
        "import numpy as np\n",
        "import simpy as sp\n",
        "import statistics as st\n",
        "import matplotlib.pyplot as plt\n",
        "import prettytable as pt"
      ],
      "execution_count": 2,
      "outputs": []
    },
    {
      "cell_type": "markdown",
      "metadata": {
        "id": "BISiVVwL2tRT"
      },
      "source": [
        "Многоканальная СМО с ограниченной очередью и ограниченным временем ожидания в очереди\n",
        "\n",
        "$ n $ - число каналов в СМО \\\n",
        "$ m $ - число мест в очереди \\\n",
        "$ \\lambda $ - интенсивность поступления в СМО заявок \\\n",
        "$ \\mu $ - интенсивность обслуживания заявок \\"
      ]
    },
    {
      "cell_type": "markdown",
      "metadata": {
        "id": "jdGmyj_ygwD-"
      },
      "source": [
        "Финальные вероятности\n",
        "\n",
        "$ \\rho = \\lambda / \\mu $\n",
        "\n",
        "$ \\beta = v / \\mu $\n",
        "\n",
        "$ p_{0} = (1 + \\frac{\\rho}{1!} + \\frac{\\rho^2}{2!} + ...+ \\frac{\\rho^n}{n!} + \\frac{\\rho^n}{n!} * \\sum_{i = 1}^m \\frac{\\rho^i}{\\prod_{l = 1}^i (n + l\\beta)})^{-1} $\n",
        "\n",
        "$ p_{k} = \\frac{\\rho^k}{k!} * p_{0}, (k = \\bar{1, n}) $ \n",
        "\n",
        "$ p_{n + i} = p_{n} * \\frac{\\rho^i}{\\prod_{l = 1}^i (n + l\\beta)}, (i = \\bar{1, m}) $ "
      ]
    },
    {
      "cell_type": "code",
      "metadata": {
        "id": "gdA1_QVOs-OI"
      },
      "source": [
        "def get_theoretical_final_probabilities(n, m, _lambda, mu, v):\n",
        "  rho = _lambda / mu\n",
        "  beta = v / mu\n",
        "  p_0 = (np.sum([(rho ** i) / np.math.factorial(i) for i in range(n + 1)]) + ((rho ** n) / np.math.factorial(n)) * (np.sum([(rho ** i) / (np.prod([n + l * beta for l in range(1, i + 1)])) for i in range(1, m + 1)]))) ** -1\n",
        "  final_probabilities = [p_0] + [((rho ** k) / np.math.factorial(k)) * p_0 for k in range(1, n + 1)]\n",
        "  p_n = final_probabilities[-1]\n",
        "  final_probabilities += [((rho ** i) / (np.prod([n + l * beta for l in range(1, i + 1)]))) * p_n for i in range(1, m + 1)]\n",
        "  return final_probabilities"
      ],
      "execution_count": 3,
      "outputs": []
    },
    {
      "cell_type": "markdown",
      "metadata": {
        "id": "9fNg2_qqUlos"
      },
      "source": [
        "Вероятность образования очереди\n",
        "\n",
        "$ p_{q} = \\sum_{i = 0}^{m - 1} p_{n + i} $"
      ]
    },
    {
      "cell_type": "code",
      "metadata": {
        "id": "wp64OLcnUlUD"
      },
      "source": [
        "def get_theoretical_queue_probability(n, m, final_probabilities):\n",
        "  return np.sum([final_probabilities[n + i] for i in range(0, m)])"
      ],
      "execution_count": 4,
      "outputs": []
    },
    {
      "cell_type": "markdown",
      "metadata": {
        "id": "uGXV1A9JW78u"
      },
      "source": [
        "Вероятность отказа\n",
        "\n",
        "$ p_{r} = p_{n + m} $"
      ]
    },
    {
      "cell_type": "code",
      "metadata": {
        "id": "8ZMYMLqHW8Qg"
      },
      "source": [
        "def get_theoretical_reject_probability(n, m, final_probabilities):\n",
        "  return final_probabilities[n + m]"
      ],
      "execution_count": 5,
      "outputs": []
    },
    {
      "cell_type": "markdown",
      "metadata": {
        "id": "oocJG2TGw3Nb"
      },
      "source": [
        "Относитальная пропускная способность\n",
        "\n",
        "$ Q = 1 - p_{q} $"
      ]
    },
    {
      "cell_type": "code",
      "metadata": {
        "id": "CUExsoTvtGaU"
      },
      "source": [
        "def get_theoretical_relative_bandwidth(reject_probability):\n",
        "  return 1 - reject_probability"
      ],
      "execution_count": 6,
      "outputs": []
    },
    {
      "cell_type": "markdown",
      "metadata": {
        "id": "YNj4lLhIZLrs"
      },
      "source": [
        "Абсолютная пропускная способность\n",
        "\n",
        "$ A = Q \\lambda $"
      ]
    },
    {
      "cell_type": "code",
      "metadata": {
        "id": "DEYXkbkfZfpQ"
      },
      "source": [
        "def get_theoretical_absolute_bandwidth(relative_bandwidth, _lambda):\n",
        "  return relative_bandwidth * _lambda"
      ],
      "execution_count": 7,
      "outputs": []
    },
    {
      "cell_type": "markdown",
      "metadata": {
        "id": "uy1jS9f3bCj_"
      },
      "source": [
        "Среднее число элементов в очереди\n",
        "\n",
        "$ L_{q} = \\sum_{i = 1}^{m} i * p_{n + i} $"
      ]
    },
    {
      "cell_type": "code",
      "metadata": {
        "id": "2uM2xAqfbCtK"
      },
      "source": [
        "def get_theoretical_average_queue_items_count(n, m, final_probabilities):\n",
        "  return np.sum([i * final_probabilities[n + i] for i in range(1, m + 1)])"
      ],
      "execution_count": 8,
      "outputs": []
    },
    {
      "cell_type": "markdown",
      "metadata": {
        "id": "YwdcsX9ueugI"
      },
      "source": [
        "Среднее число элементов в СМО\n",
        "\n",
        "$ L_{qs} = \\sum_{k = 1}^{n} k * p_{k} + \\sum_{i = 1}^{m} (n + i) * p_{n + i} $"
      ]
    },
    {
      "cell_type": "code",
      "metadata": {
        "id": "_g0VgM1HeupW"
      },
      "source": [
        "def get_theoretical_average_queue_system_items_count(n, m, final_probabilities):\n",
        "  return np.sum([k * final_probabilities[k] for k in range(1, n + 1)]) + np.sum([(n + i) * final_probabilities[n + i] for i in range(1, m + 1)])"
      ],
      "execution_count": 9,
      "outputs": []
    },
    {
      "cell_type": "markdown",
      "metadata": {
        "id": "un7KIfuKiBc5"
      },
      "source": [
        "Среднее число активных каналов\n",
        "\n",
        "$ k = Q * \\rho $"
      ]
    },
    {
      "cell_type": "code",
      "metadata": {
        "id": "6X6WcyIRiAZA"
      },
      "source": [
        "def get_theoretical_average_active_channal_count(relative_bandwidth, rho):\n",
        "  return relative_bandwidth * rho"
      ],
      "execution_count": 10,
      "outputs": []
    },
    {
      "cell_type": "markdown",
      "metadata": {
        "id": "cVC5JCFtk2Mg"
      },
      "source": [
        "Среднее время пребывания элемента в очереди\n",
        "\n",
        "$ T_{q} = L_{q} / \\lambda $"
      ]
    },
    {
      "cell_type": "code",
      "metadata": {
        "id": "_F9RvRY0iX_0"
      },
      "source": [
        "def get_theoretical_average_queue_items_time(reject_probability, _lambda):\n",
        "  return reject_probability / _lambda"
      ],
      "execution_count": 11,
      "outputs": []
    },
    {
      "cell_type": "markdown",
      "metadata": {
        "id": "PyPLsvamiYPq"
      },
      "source": [
        "Среднее время пребывания элемента в СМО\n",
        "\n",
        "$ T_{qs} = L_{qs} / \\lambda $"
      ]
    },
    {
      "cell_type": "code",
      "metadata": {
        "id": "42c86ThyiYZl"
      },
      "source": [
        "def get_theoretical_average_queue_system_items_time(average_queue_system_items_count, _lambda):\n",
        "  return average_queue_system_items_count / _lambda"
      ],
      "execution_count": 12,
      "outputs": []
    },
    {
      "cell_type": "code",
      "metadata": {
        "id": "xrX-Itd9oLoc"
      },
      "source": [
        "def get_theoretical_info(n, m, _lambda, mu, v):\n",
        "  final_probabilities = get_theoretical_final_probabilities(n, m, _lambda, mu, v)\n",
        "  queue_probability = get_theoretical_queue_probability(n, m, final_probabilities)\n",
        "  reject_probability = get_theoretical_reject_probability(n, m, final_probabilities)\n",
        "  relative_bandwidth = get_theoretical_relative_bandwidth(reject_probability)\n",
        "  absolute_bandwidth = get_theoretical_absolute_bandwidth(relative_bandwidth, _lambda)\n",
        "  average_queue_items_count = get_theoretical_average_queue_items_count(n, m, final_probabilities)\n",
        "  average_queue_system_items_count = get_theoretical_average_queue_system_items_count(n, m, final_probabilities)\n",
        "  average_active_channal_count = get_theoretical_average_active_channal_count(relative_bandwidth, _lambda / mu)  \n",
        "  average_queue_items_time = get_theoretical_average_queue_items_time(average_queue_items_count, _lambda)\n",
        "  average_queue_system_items_time = get_theoretical_average_queue_system_items_time(average_queue_system_items_count, _lambda)\n",
        "  return final_probabilities, queue_probability, reject_probability, relative_bandwidth, absolute_bandwidth, average_queue_items_count, average_queue_system_items_count, average_active_channal_count, average_queue_items_time, average_queue_system_items_time"
      ],
      "execution_count": 13,
      "outputs": []
    },
    {
      "cell_type": "code",
      "metadata": {
        "id": "XQjjzp3zYT7V"
      },
      "source": [
        "class QueueSystem(object):\n",
        "  def __init__(self, env, n, m, _lambda, mu, v): \n",
        "    self.n = n\n",
        "    self.m = m\n",
        "    self._lambda = _lambda\n",
        "    self.mu = mu\n",
        "    self.v = v\n",
        "\n",
        "    self.counts = []\n",
        "    self.times = []\n",
        "    self.queue_counts = []\n",
        "    self.queue_times = []\n",
        "    \n",
        "    self.serve_items = []\n",
        "    self.reject_items = []\n",
        "    \n",
        "    self.env = env\n",
        "    self.resources = sp.Resource(env, n)\n",
        "\n",
        "  def serve(self):\n",
        "    yield self.env.timeout(np.random.exponential(1.0 / self.mu))\n",
        "\n",
        "  def wait(self):\n",
        "    yield self.env.timeout(np.random.exponential(1.0 / self.v))\n",
        "\n",
        "  def get_workload(self):\n",
        "    return self.resources.count\n",
        "  \n",
        "  def get_queue_len(self):\n",
        "    return len(self.resources.queue)\n",
        "\n",
        "  def start(self, action):\n",
        "    while True:\n",
        "      yield self.env.timeout(np.random.exponential(1 / self._lambda))\n",
        "      self.env.process(action(self))"
      ],
      "execution_count": 14,
      "outputs": []
    },
    {
      "cell_type": "markdown",
      "metadata": {
        "id": "2r7lhJC7nw3f"
      },
      "source": [
        "Финальные вероятности"
      ]
    },
    {
      "cell_type": "code",
      "metadata": {
        "id": "ahfo8rqkhMLN"
      },
      "source": [
        "def get_experimental_final_probabilities(queue_system: QueueSystem):\n",
        "  items = np.array(queue_system.reject_items + queue_system.serve_items)\n",
        "  return [(len(items[items == i]) / len(items)) for i in range(1, queue_system.n + queue_system.m + 2)]"
      ],
      "execution_count": 15,
      "outputs": []
    },
    {
      "cell_type": "markdown",
      "metadata": {
        "id": "JN_7PIVan9AJ"
      },
      "source": [
        "Вероятность образования очереди"
      ]
    },
    {
      "cell_type": "code",
      "metadata": {
        "id": "01_nB9_2n9Jn"
      },
      "source": [
        "def get_experimental_queue_probability(queue_system: QueueSystem):\n",
        "  items = np.array(queue_system.reject_items + queue_system.serve_items)\n",
        "  return np.sum([(len(items[items == i]) / len(items)) for i in range(1, queue_system.n + queue_system.m + 2) if i > queue_system.n and i < queue_system.n + queue_system.m + 1])"
      ],
      "execution_count": 16,
      "outputs": []
    },
    {
      "cell_type": "markdown",
      "metadata": {
        "id": "SciOUNZFqfHI"
      },
      "source": [
        "Вероятность отказа"
      ]
    },
    {
      "cell_type": "code",
      "metadata": {
        "id": "w3RfKBBPqfP-"
      },
      "source": [
        "def get_experimental_reject_probability(queue_system: QueueSystem):\n",
        "  items = np.array(queue_system.reject_items + queue_system.serve_items)\n",
        "  return (len(items[items == queue_system.n + queue_system.m + 1]) / len(items))"
      ],
      "execution_count": 17,
      "outputs": []
    },
    {
      "cell_type": "markdown",
      "metadata": {
        "id": "ahB4_ui3sJBG"
      },
      "source": [
        "Относитальная пропускная способность"
      ]
    },
    {
      "cell_type": "code",
      "metadata": {
        "id": "0wcxWlPxsJOx"
      },
      "source": [
        "def get_experimental_relative_bandwidth(queue_system: QueueSystem):\n",
        "  return 1 - get_experimental_reject_probability(queue_system)"
      ],
      "execution_count": 18,
      "outputs": []
    },
    {
      "cell_type": "markdown",
      "metadata": {
        "id": "P4Z8Z4hMsz3q"
      },
      "source": [
        "Абсолютная пропускная способность"
      ]
    },
    {
      "cell_type": "code",
      "metadata": {
        "id": "Bq07TimFs0C1"
      },
      "source": [
        "def get_experimental_absolute_bandwidth(queue_system: QueueSystem):\n",
        "  return get_experimental_relative_bandwidth(queue_system) * queue_system._lambda"
      ],
      "execution_count": 19,
      "outputs": []
    },
    {
      "cell_type": "markdown",
      "metadata": {
        "id": "4SikpMLwSyCh"
      },
      "source": [
        "Среднее число элементов в очереди"
      ]
    },
    {
      "cell_type": "code",
      "metadata": {
        "id": "2EcRSWLrSzOr"
      },
      "source": [
        "def get_experimental_average_queue_items_count(queue_system: QueueSystem):\n",
        "  return st.mean(queue_system.queue_counts)"
      ],
      "execution_count": 20,
      "outputs": []
    },
    {
      "cell_type": "markdown",
      "metadata": {
        "id": "myBnCA0nVMoq"
      },
      "source": [
        "Среднее число элементов в СМО"
      ]
    },
    {
      "cell_type": "code",
      "metadata": {
        "id": "5y9H_VtGVM1C"
      },
      "source": [
        "def get_experimental_average_queue_system_items_count(queue_system: QueueSystem):\n",
        "  return st.mean(queue_system.counts)"
      ],
      "execution_count": 21,
      "outputs": []
    },
    {
      "cell_type": "markdown",
      "metadata": {
        "id": "pnEGyUwDbSpq"
      },
      "source": [
        "Среднее число активных каналов"
      ]
    },
    {
      "cell_type": "code",
      "metadata": {
        "id": "oErRY27dbS7k"
      },
      "source": [
        "def get_experimental_average_active_channal_count(queue_system: QueueSystem):\n",
        "  return get_experimental_relative_bandwidth(queue_system) * queue_system._lambda / queue_system.mu"
      ],
      "execution_count": 22,
      "outputs": []
    },
    {
      "cell_type": "markdown",
      "metadata": {
        "id": "MHXbj_nQWhX-"
      },
      "source": [
        "Среднее время пребывания элемента в очереди"
      ]
    },
    {
      "cell_type": "code",
      "metadata": {
        "id": "TbXUw8lGWhf6"
      },
      "source": [
        "def get_experimental_average_queue_items_time(queue_system: QueueSystem):\n",
        "  return st.mean(queue_system.queue_times)"
      ],
      "execution_count": 23,
      "outputs": []
    },
    {
      "cell_type": "markdown",
      "metadata": {
        "id": "K5mKXS1MWhqx"
      },
      "source": [
        "Среднее время пребывания элемента в СМО"
      ]
    },
    {
      "cell_type": "code",
      "metadata": {
        "id": "gutYQAvpWh2u"
      },
      "source": [
        "def get_experimental_average_queue_system_items_time(queue_system: QueueSystem):\n",
        "  return st.mean(queue_system.times)"
      ],
      "execution_count": 24,
      "outputs": []
    },
    {
      "cell_type": "code",
      "metadata": {
        "id": "37CYVnu3Li1J"
      },
      "source": [
        "def get_experimental_info(queue_system: QueueSystem):\n",
        "  final_probabilities = get_experimental_final_probabilities(queue_system)\n",
        "  queue_probability = get_experimental_queue_probability(queue_system)\n",
        "  reject_probability = get_experimental_reject_probability(queue_system)\n",
        "  relative_bandwidth = get_experimental_relative_bandwidth(queue_system)\n",
        "  absolute_bandwidth = get_experimental_absolute_bandwidth(queue_system)\n",
        "  average_queue_items_count = get_experimental_average_queue_items_count(queue_system) \n",
        "  average_queue_system_items_count = get_experimental_average_queue_system_items_count(queue_system) \n",
        "  average_active_channal_count = get_experimental_average_active_channal_count(queue_system) \n",
        "  average_queue_items_time = get_experimental_average_queue_items_time(queue_system) \n",
        "  average_queue_system_items_time = get_experimental_average_queue_system_items_time(queue_system)\n",
        "  return final_probabilities, queue_probability, reject_probability, relative_bandwidth, absolute_bandwidth, average_queue_items_count, average_queue_system_items_count, average_active_channal_count, average_queue_items_time, average_queue_system_items_time"
      ],
      "execution_count": 25,
      "outputs": []
    },
    {
      "cell_type": "code",
      "metadata": {
        "id": "G2XEhEO0Qkzd"
      },
      "source": [
        "def serve(queue_system: QueueSystem):\n",
        "  queue_len = queue_system.get_queue_len()\n",
        "  qn_count = queue_system.get_workload()\n",
        "  with queue_system.resources.request() as request:\n",
        "    queue_current_len = queue_system.get_queue_len()\n",
        "    qn_current_count = queue_system.get_workload()\n",
        "    queue_system.queue_counts.append(queue_len)\n",
        "    queue_system.counts.append(queue_len + qn_count)\n",
        "    if queue_current_len <= queue_system.m:\n",
        "      start = queue_system.env.now\n",
        "      response = yield request | queue_system.env.process(queue_system.wait())\n",
        "      queue_system.queue_times.append(queue_system.env.now - start)\n",
        "      if request in response:\n",
        "        yield queue_system.env.process(queue_system.serve())\n",
        "        queue_system.serve_items.append(queue_current_len + qn_current_count)\n",
        "      else:\n",
        "        queue_system.reject_items.append(queue_current_len + qn_current_count)\n",
        "      queue_system.times.append(queue_system.env.now - start)\n",
        "    else:\n",
        "      queue_system.reject_items.append(queue_system.n + queue_system.m + 1)\n",
        "      queue_system.times.append(0)\n",
        "      queue_system.queue_times.append(0)"
      ],
      "execution_count": 26,
      "outputs": []
    },
    {
      "cell_type": "code",
      "metadata": {
        "id": "Nwlj9sFa_vMH"
      },
      "source": [
        "def test_case(n, m, _lambda, mu, v, time, _round):\n",
        "  env = sp.Environment()\n",
        "  queue_system = QueueSystem(env, n, m, _lambda, mu, v)\n",
        "  env.process(queue_system.start(serve))\n",
        "  env.run(until = time)\n",
        "  \n",
        "  theoretical_info = (get_theoretical_info(n, m, _lambda, mu, v))\n",
        "  experimental_info = (get_experimental_info(queue_system))\n",
        "  \n",
        "  final_probabilities_info = pt.PrettyTable()\n",
        "  final_probabilities_info.add_column(\"Теоретические финальные вероятности\", np.around(theoretical_info[0], _round))\n",
        "  final_probabilities_info.add_column(\"Эмпирические финальные вероятности\", np.around(experimental_info[0], _round))\n",
        "  print(final_probabilities_info)\n",
        "  \n",
        "  plot_histograms(theoretical_info[0], experimental_info[0])\n",
        "\n",
        "  field_names = [\"Вероятность образования очереди\", \n",
        "                 \"Вероятность отказа\", \n",
        "                 \"Относитальная пропускная способность\", \n",
        "                 \"Абсолютная пропускная способность\", \n",
        "                 \"Среднее число элементов в очереди\",\n",
        "                 \"Среднее число элементов в СМО\",\n",
        "                 \"Среднее число активных каналов\",\n",
        "                 \"Среднее время пребывания элемента в очереди\",\n",
        "                 \"Среднее время пребывания элемента в СМО\"]\n",
        "  \n",
        "  for index, value in enumerate(field_names):\n",
        "    info = pt.PrettyTable()\n",
        "    info.field_names = [\"Исследование\", value]\n",
        "    info.add_row([\"Теоретическое\", np.around(theoretical_info[index + 1], _round)])\n",
        "    info.add_row([\"Эмпирическое\", np.around(experimental_info[index + 1], _round)])\n",
        "    print(info)\n"
      ],
      "execution_count": 27,
      "outputs": []
    },
    {
      "cell_type": "code",
      "metadata": {
        "id": "GfwFyRWbXKsb"
      },
      "source": [
        "def plot_histograms(theoretical_probabilities, experimental_probabilities):\n",
        "    plt.style.use('default')\n",
        "    fig, (ax1, ax2, ax3) = plt.subplots(1, 3, figsize=(25, 5))\n",
        "    \n",
        "    ax1.set_title('Теоретические финальные вероятности')\n",
        "    ax1.bar(range(len(theoretical_probabilities)), theoretical_probabilities, width = 0.2)\n",
        "    \n",
        "    ax2.set_title('Эмпирические финальные вероятности')\n",
        "    ax2.bar(range(len(experimental_probabilities)), experimental_probabilities, width = 0.2)\n",
        "\n",
        "    ax3.set_title('Финальные вероятности')\n",
        "    ax3.bar(range(len(theoretical_probabilities)), theoretical_probabilities, width = 0.3)\n",
        "    ax3.bar(range(len(experimental_probabilities)), experimental_probabilities, width = 0.1)\n",
        "    \n",
        "    plt.show()"
      ],
      "execution_count": 28,
      "outputs": []
    },
    {
      "cell_type": "code",
      "metadata": {
        "colab": {
          "base_uri": "https://localhost:8080/",
          "height": 1000
        },
        "id": "K4yum4zlHgg2",
        "outputId": "5b991fbb-dacf-47c4-ae78-ce8e03f1e452"
      },
      "source": [
        "print(\"Тест 1\")\n",
        "test_case(2, 10, 10, 5, 1, 6000, 10)"
      ],
      "execution_count": 29,
      "outputs": [
        {
          "output_type": "stream",
          "name": "stdout",
          "text": [
            "Тест 1\n",
            "+-------------------------------------+------------------------------------+\n",
            "| Теоретические финальные вероятности | Эмпирические финальные вероятности |\n",
            "+-------------------------------------+------------------------------------+\n",
            "|             0.0859098659            |             0.08673606             |\n",
            "|             0.1718197318            |            0.1724345672            |\n",
            "|             0.1718197318            |            0.1721333423            |\n",
            "|             0.1561997562            |            0.155281478             |\n",
            "|             0.1301664635            |            0.1315683781            |\n",
            "|             0.1001280488            |            0.1034875159            |\n",
            "|             0.0715200349            |            0.0724613428            |\n",
            "|             0.0476800233            |            0.047058036             |\n",
            "|             0.0298000145            |            0.0281812705            |\n",
            "|             0.0175294203            |            0.0155967602            |\n",
            "|             0.0097385668            |            0.0086351161            |\n",
            "|             0.0051255615            |            0.0043342928            |\n",
            "|             0.0025627807            |            0.0020918401            |\n",
            "+-------------------------------------+------------------------------------+\n"
          ]
        },
        {
          "output_type": "display_data",
          "data": {
            "image/png": "[encoded data removed]",
            "text/plain": [
              "<Figure size 2500x500 with 3 Axes>"
            ]
          },
          "metadata": {}
        },
        {
          "output_type": "stream",
          "name": "stdout",
          "text": [
            "+---------------+---------------------------------+\n",
            "|  Исследование | Вероятность образования очереди |\n",
            "+---------------+---------------------------------+\n",
            "| Теоретическое |           0.7397076216          |\n",
            "|  Эмпирическое |           0.7387375326          |\n",
            "+---------------+---------------------------------+\n",
            "+---------------+--------------------+\n",
            "|  Исследование | Вероятность отказа |\n",
            "+---------------+--------------------+\n",
            "| Теоретическое |    0.0025627807    |\n",
            "|  Эмпирическое |    0.0020918401    |\n",
            "+---------------+--------------------+\n",
            "+---------------+--------------------------------------+\n",
            "|  Исследование | Относитальная пропускная способность |\n",
            "+---------------+--------------------------------------+\n",
            "| Теоретическое |             0.9974372193             |\n",
            "|  Эмпирическое |             0.9979081599             |\n",
            "+---------------+--------------------------------------+\n",
            "+---------------+-----------------------------------+\n",
            "|  Исследование | Абсолютная пропускная способность |\n",
            "+---------------+-----------------------------------+\n",
            "| Теоретическое |            9.9743721925           |\n",
            "|  Эмпирическое |            9.9790815985           |\n",
            "+---------------+-----------------------------------+\n",
            "+---------------+-----------------------------------+\n",
            "|  Исследование | Среднее число элементов в очереди |\n",
            "+---------------+-----------------------------------+\n",
            "| Теоретическое |            1.6925695104           |\n",
            "|  Эмпирическое |            1.6613456486           |\n",
            "+---------------+-----------------------------------+\n",
            "+---------------+-------------------------------+\n",
            "|  Исследование | Среднее число элементов в СМО |\n",
            "+---------------+-------------------------------+\n",
            "| Теоретическое |          3.3489300468         |\n",
            "|  Эмпирическое |          3.3154627445         |\n",
            "+---------------+-------------------------------+\n",
            "+---------------+--------------------------------+\n",
            "|  Исследование | Среднее число активных каналов |\n",
            "+---------------+--------------------------------+\n",
            "| Теоретическое |          1.9948744385          |\n",
            "|  Эмпирическое |          1.9958163197          |\n",
            "+---------------+--------------------------------+\n",
            "+---------------+---------------------------------------------+\n",
            "|  Исследование | Среднее время пребывания элемента в очереди |\n",
            "+---------------+---------------------------------------------+\n",
            "| Теоретическое |                 0.169256951                 |\n",
            "|  Эмпирическое |                 0.1676209632                |\n",
            "+---------------+---------------------------------------------+\n",
            "+---------------+-----------------------------------------+\n",
            "|  Исследование | Среднее время пребывания элемента в СМО |\n",
            "+---------------+-----------------------------------------+\n",
            "| Теоретическое |               0.3348930047              |\n",
            "|  Эмпирическое |               0.3333500545              |\n",
            "+---------------+-----------------------------------------+\n"
          ]
        }
      ]
    },
    {
      "cell_type": "code",
      "metadata": {
        "colab": {
          "base_uri": "https://localhost:8080/",
          "height": 1000
        },
        "id": "d69tPoRxesJe",
        "outputId": "4eead724-ef79-4c2e-d379-c5466045ac78"
      },
      "source": [
        "print(\"Тест2\")\n",
        "test_case(5, 10, 100, 10, 1, 6000, 10)"
      ],
      "execution_count": 30,
      "outputs": [
        {
          "output_type": "stream",
          "name": "stdout",
          "text": [
            "Тест2\n",
            "+-------------------------------------+------------------------------------+\n",
            "| Теоретические финальные вероятности | Эмпирические финальные вероятности |\n",
            "+-------------------------------------+------------------------------------+\n",
            "|              1.3578e-06             |             1.6673e-06             |\n",
            "|              1.3578e-05             |            1.00037e-05             |\n",
            "|             6.78902e-05             |             7.0026e-05             |\n",
            "|             0.0002263006            |            0.0002267509            |\n",
            "|             0.0005657514            |            0.0005818829            |\n",
            "|             0.0011315028            |            0.0011337547            |\n",
            "|             0.0022186329            |            0.0021474648            |\n",
            "|             0.0042666017            |            0.0043249408            |\n",
            "|             0.0080501919            |            0.0082780767            |\n",
            "|             0.0149077628            |            0.0150089116            |\n",
            "|             0.0271050232            |            0.0273184867            |\n",
            "|             0.0484018272            |            0.0492316311            |\n",
            "|             0.0849154863            |            0.0852983692            |\n",
            "|             0.1464060108            |            0.1464227538            |\n",
            "|             0.248145781             |            0.2476837225            |\n",
            "|             0.4135763016            |            0.4122615572            |\n",
            "+-------------------------------------+------------------------------------+\n"
          ]
        },
        {
          "output_type": "display_data",
          "data": {
            "image/png": "[encoded data removed]",
            "text/plain": [
              "<Figure size 2500x500 with 3 Axes>"
            ]
          },
          "metadata": {}
        },
        {
          "output_type": "stream",
          "name": "stdout",
          "text": [
            "+---------------+---------------------------------+\n",
            "|  Исследование | Вероятность образования очереди |\n",
            "+---------------+---------------------------------+\n",
            "| Теоретическое |           0.5855488204          |\n",
            "|  Эмпирическое |           0.5868481119          |\n",
            "+---------------+---------------------------------+\n",
            "+---------------+--------------------+\n",
            "|  Исследование | Вероятность отказа |\n",
            "+---------------+--------------------+\n",
            "| Теоретическое |    0.4135763016    |\n",
            "|  Эмпирическое |    0.4122615572    |\n",
            "+---------------+--------------------+\n",
            "+---------------+--------------------------------------+\n",
            "|  Исследование | Относитальная пропускная способность |\n",
            "+---------------+--------------------------------------+\n",
            "| Теоретическое |             0.5864236984             |\n",
            "|  Эмпирическое |             0.5877384428             |\n",
            "+---------------+--------------------------------------+\n",
            "+---------------+-----------------------------------+\n",
            "|  Исследование | Абсолютная пропускная способность |\n",
            "+---------------+-----------------------------------+\n",
            "| Теоретическое |           58.6423698359           |\n",
            "|  Эмпирическое |           58.7738442788           |\n",
            "+---------------+-----------------------------------+\n",
            "+---------------+-----------------------------------+\n",
            "|  Исследование | Среднее число элементов в очереди |\n",
            "+---------------+-----------------------------------+\n",
            "| Теоретическое |            8.6552010774           |\n",
            "|  Эмпирическое |            8.647870675            |\n",
            "+---------------+-----------------------------------+\n",
            "+---------------+-------------------------------+\n",
            "|  Исследование | Среднее число элементов в СМО |\n",
            "+---------------+-------------------------------+\n",
            "| Теоретическое |         13.6539179532         |\n",
            "|  Эмпирическое |          13.646576891         |\n",
            "+---------------+-------------------------------+\n",
            "+---------------+--------------------------------+\n",
            "|  Исследование | Среднее число активных каналов |\n",
            "+---------------+--------------------------------+\n",
            "| Теоретическое |          5.8642369836          |\n",
            "|  Эмпирическое |          5.8773844279          |\n",
            "+---------------+--------------------------------+\n",
            "+---------------+---------------------------------------------+\n",
            "|  Исследование | Среднее время пребывания элемента в очереди |\n",
            "+---------------+---------------------------------------------+\n",
            "| Теоретическое |                 0.0865520108                |\n",
            "|  Эмпирическое |                 0.0865104106                |\n",
            "+---------------+---------------------------------------------+\n",
            "+---------------+-----------------------------------------+\n",
            "|  Исследование | Среднее время пребывания элемента в СМО |\n",
            "+---------------+-----------------------------------------+\n",
            "| Теоретическое |               0.1365391795              |\n",
            "|  Эмпирическое |               0.1365160146              |\n",
            "+---------------+-----------------------------------------+\n"
          ]
        }
      ]
    },
    {
      "cell_type": "code",
      "metadata": {
        "colab": {
          "base_uri": "https://localhost:8080/",
          "height": 1000
        },
        "id": "1RXdGbpce3xV",
        "outputId": "c7136e44-5044-45d2-8950-0e00d5a70aaf"
      },
      "source": [
        "print(\"Тест 3\")\n",
        "test_case(2, 1, 10, 5, 1, 6000, 10)"
      ],
      "execution_count": 31,
      "outputs": [
        {
          "output_type": "stream",
          "name": "stdout",
          "text": [
            "Тест 3\n",
            "+-------------------------------------+------------------------------------+\n",
            "| Теоретические финальные вероятности | Эмпирические финальные вероятности |\n",
            "+-------------------------------------+------------------------------------+\n",
            "|             0.1466666667            |            0.1485854162            |\n",
            "|             0.2933333333            |            0.2912593875            |\n",
            "|             0.2933333333            |            0.2908264366            |\n",
            "|             0.2666666667            |            0.2693287596            |\n",
            "+-------------------------------------+------------------------------------+\n"
          ]
        },
        {
          "output_type": "display_data",
          "data": {
            "image/png": "[encoded data removed]",
            "text/plain": [
              "<Figure size 2500x500 with 3 Axes>"
            ]
          },
          "metadata": {}
        },
        {
          "output_type": "stream",
          "name": "stdout",
          "text": [
            "+---------------+---------------------------------+\n",
            "|  Исследование | Вероятность образования очереди |\n",
            "+---------------+---------------------------------+\n",
            "| Теоретическое |           0.2933333333          |\n",
            "|  Эмпирическое |           0.2908264366          |\n",
            "+---------------+---------------------------------+\n",
            "+---------------+--------------------+\n",
            "|  Исследование | Вероятность отказа |\n",
            "+---------------+--------------------+\n",
            "| Теоретическое |    0.2666666667    |\n",
            "|  Эмпирическое |    0.2693287596    |\n",
            "+---------------+--------------------+\n",
            "+---------------+--------------------------------------+\n",
            "|  Исследование | Относитальная пропускная способность |\n",
            "+---------------+--------------------------------------+\n",
            "| Теоретическое |             0.7333333333             |\n",
            "|  Эмпирическое |             0.7306712404             |\n",
            "+---------------+--------------------------------------+\n",
            "+---------------+-----------------------------------+\n",
            "|  Исследование | Абсолютная пропускная способность |\n",
            "+---------------+-----------------------------------+\n",
            "| Теоретическое |            7.3333333333           |\n",
            "|  Эмпирическое |            7.306712404            |\n",
            "+---------------+-----------------------------------+\n",
            "+---------------+-----------------------------------+\n",
            "|  Исследование | Среднее число элементов в очереди |\n",
            "+---------------+-----------------------------------+\n",
            "| Теоретическое |            0.2666666667           |\n",
            "|  Эмпирическое |            0.2693153057           |\n",
            "+---------------+-----------------------------------+\n",
            "+---------------+-------------------------------+\n",
            "|  Исследование | Среднее число элементов в СМО |\n",
            "+---------------+-------------------------------+\n",
            "| Теоретическое |              1.68             |\n",
            "|  Эмпирическое |          1.6808811776         |\n",
            "+---------------+-------------------------------+\n",
            "+---------------+--------------------------------+\n",
            "|  Исследование | Среднее число активных каналов |\n",
            "+---------------+--------------------------------+\n",
            "| Теоретическое |          1.4666666667          |\n",
            "|  Эмпирическое |          1.4613424808          |\n",
            "+---------------+--------------------------------+\n",
            "+---------------+---------------------------------------------+\n",
            "|  Исследование | Среднее время пребывания элемента в очереди |\n",
            "+---------------+---------------------------------------------+\n",
            "| Теоретическое |                 0.0266666667                |\n",
            "|  Эмпирическое |                 0.0263961285                |\n",
            "+---------------+---------------------------------------------+\n",
            "+---------------+-----------------------------------------+\n",
            "|  Исследование | Среднее время пребывания элемента в СМО |\n",
            "+---------------+-----------------------------------------+\n",
            "| Теоретическое |                  0.168                  |\n",
            "|  Эмпирическое |               0.1668735935              |\n",
            "+---------------+-----------------------------------------+\n"
          ]
        }
      ]
    },
    {
      "cell_type": "code",
      "metadata": {
        "colab": {
          "base_uri": "https://localhost:8080/",
          "height": 1000
        },
        "id": "Sd6dK3DOqSMc",
        "outputId": "87a82483-e37e-466e-a4da-17b9b2ada121"
      },
      "source": [
        "print(\"Тест 4\")\n",
        "test_case(2, 1, 1, 5, 1, 6000, 10)"
      ],
      "execution_count": 32,
      "outputs": [
        {
          "output_type": "stream",
          "name": "stdout",
          "text": [
            "Тест 4\n",
            "+-------------------------------------+------------------------------------+\n",
            "| Теоретические финальные вероятности | Эмпирические финальные вероятности |\n",
            "+-------------------------------------+------------------------------------+\n",
            "|             0.818452381             |            0.8215795704            |\n",
            "|             0.1636904762            |            0.1613394216            |\n",
            "|             0.0163690476            |            0.0158971757            |\n",
            "|             0.0014880952            |            0.0011838322            |\n",
            "+-------------------------------------+------------------------------------+\n"
          ]
        },
        {
          "output_type": "display_data",
          "data": {
            "image/png": "[encoded data removed]",
            "text/plain": [
              "<Figure size 2500x500 with 3 Axes>"
            ]
          },
          "metadata": {}
        },
        {
          "output_type": "stream",
          "name": "stdout",
          "text": [
            "+---------------+---------------------------------+\n",
            "|  Исследование | Вероятность образования очереди |\n",
            "+---------------+---------------------------------+\n",
            "| Теоретическое |           0.0163690476          |\n",
            "|  Эмпирическое |           0.0158971757          |\n",
            "+---------------+---------------------------------+\n",
            "+---------------+--------------------+\n",
            "|  Исследование | Вероятность отказа |\n",
            "+---------------+--------------------+\n",
            "| Теоретическое |    0.0014880952    |\n",
            "|  Эмпирическое |    0.0011838322    |\n",
            "+---------------+--------------------+\n",
            "+---------------+--------------------------------------+\n",
            "|  Исследование | Относитальная пропускная способность |\n",
            "+---------------+--------------------------------------+\n",
            "| Теоретическое |             0.9985119048             |\n",
            "|  Эмпирическое |             0.9988161678             |\n",
            "+---------------+--------------------------------------+\n",
            "+---------------+-----------------------------------+\n",
            "|  Исследование | Абсолютная пропускная способность |\n",
            "+---------------+-----------------------------------+\n",
            "| Теоретическое |            0.9985119048           |\n",
            "|  Эмпирическое |            0.9988161678           |\n",
            "+---------------+-----------------------------------+\n",
            "+---------------+-----------------------------------+\n",
            "|  Исследование | Среднее число элементов в очереди |\n",
            "+---------------+-----------------------------------+\n",
            "| Теоретическое |            0.0014880952           |\n",
            "|  Эмпирическое |            0.0011838322           |\n",
            "+---------------+-----------------------------------+\n",
            "+---------------+-------------------------------+\n",
            "|  Исследование | Среднее число элементов в СМО |\n",
            "+---------------+-------------------------------+\n",
            "| Теоретическое |          0.2008928571         |\n",
            "|  Эмпирическое |          0.1966852697         |\n",
            "+---------------+-------------------------------+\n",
            "+---------------+--------------------------------+\n",
            "|  Исследование | Среднее число активных каналов |\n",
            "+---------------+--------------------------------+\n",
            "| Теоретическое |          0.199702381           |\n",
            "|  Эмпирическое |          0.1997632336          |\n",
            "+---------------+--------------------------------+\n",
            "+---------------+---------------------------------------------+\n",
            "|  Исследование | Среднее время пребывания элемента в очереди |\n",
            "+---------------+---------------------------------------------+\n",
            "| Теоретическое |                 0.0014880952                |\n",
            "|  Эмпирическое |                 0.0012987485                |\n",
            "+---------------+---------------------------------------------+\n",
            "+---------------+-----------------------------------------+\n",
            "|  Исследование | Среднее время пребывания элемента в СМО |\n",
            "+---------------+-----------------------------------------+\n",
            "| Теоретическое |               0.2008928571              |\n",
            "|  Эмпирическое |               0.204540949               |\n",
            "+---------------+-----------------------------------------+\n"
          ]
        }
      ]
    },
    {
      "cell_type": "code",
      "metadata": {
        "colab": {
          "base_uri": "https://localhost:8080/",
          "height": 1000
        },
        "id": "CZSbyCToqYab",
        "outputId": "120e5d7f-069e-466a-b805-24ad4442817f"
      },
      "source": [
        "print(\"Тест 5\")\n",
        "test_case(2, 1, 50, 10, 1, 6000, 10)"
      ],
      "execution_count": 33,
      "outputs": [
        {
          "output_type": "stream",
          "name": "stdout",
          "text": [
            "Тест 5\n",
            "+-------------------------------------+------------------------------------+\n",
            "| Теоретические финальные вероятности | Эмпирические финальные вероятности |\n",
            "+-------------------------------------+------------------------------------+\n",
            "|             0.0207202763            |            0.0211797631            |\n",
            "|             0.1036013814            |            0.1034433357            |\n",
            "|             0.2590034534            |            0.2581485615            |\n",
            "|             0.616674889             |            0.6172283396            |\n",
            "+-------------------------------------+------------------------------------+\n"
          ]
        },
        {
          "output_type": "display_data",
          "data": {
            "image/png": "[encoded data removed]",
            "text/plain": [
              "<Figure size 2500x500 with 3 Axes>"
            ]
          },
          "metadata": {}
        },
        {
          "output_type": "stream",
          "name": "stdout",
          "text": [
            "+---------------+---------------------------------+\n",
            "|  Исследование | Вероятность образования очереди |\n",
            "+---------------+---------------------------------+\n",
            "| Теоретическое |           0.2590034534          |\n",
            "|  Эмпирическое |           0.2581485615          |\n",
            "+---------------+---------------------------------+\n",
            "+---------------+--------------------+\n",
            "|  Исследование | Вероятность отказа |\n",
            "+---------------+--------------------+\n",
            "| Теоретическое |    0.616674889     |\n",
            "|  Эмпирическое |    0.6172283396    |\n",
            "+---------------+--------------------+\n",
            "+---------------+--------------------------------------+\n",
            "|  Исследование | Относитальная пропускная способность |\n",
            "+---------------+--------------------------------------+\n",
            "| Теоретическое |             0.383325111              |\n",
            "|  Эмпирическое |             0.3827716604             |\n",
            "+---------------+--------------------------------------+\n",
            "+---------------+-----------------------------------+\n",
            "|  Исследование | Абсолютная пропускная способность |\n",
            "+---------------+-----------------------------------+\n",
            "| Теоретическое |           19.1662555501           |\n",
            "|  Эмпирическое |           19.1385830182           |\n",
            "+---------------+-----------------------------------+\n",
            "+---------------+-----------------------------------+\n",
            "|  Исследование | Среднее число элементов в очереди |\n",
            "+---------------+-----------------------------------+\n",
            "| Теоретическое |            0.616674889            |\n",
            "|  Эмпирическое |            0.6172221704           |\n",
            "+---------------+-----------------------------------+\n",
            "+---------------+-------------------------------+\n",
            "|  Исследование | Среднее число элементов в СМО |\n",
            "+---------------+-------------------------------+\n",
            "| Теоретическое |          2.4716329551         |\n",
            "|  Эмпирическое |          2.4714207658         |\n",
            "+---------------+-------------------------------+\n",
            "+---------------+--------------------------------+\n",
            "|  Исследование | Среднее число активных каналов |\n",
            "+---------------+--------------------------------+\n",
            "| Теоретическое |          1.916625555           |\n",
            "|  Эмпирическое |          1.9138583018          |\n",
            "+---------------+--------------------------------+\n",
            "+---------------+---------------------------------------------+\n",
            "|  Исследование | Среднее время пребывания элемента в очереди |\n",
            "+---------------+---------------------------------------------+\n",
            "| Теоретическое |                 0.0123334978                |\n",
            "|  Эмпирическое |                 0.0123671875                |\n",
            "+---------------+---------------------------------------------+\n",
            "+---------------+-----------------------------------------+\n",
            "|  Исследование | Среднее время пребывания элемента в СМО |\n",
            "+---------------+-----------------------------------------+\n",
            "| Теоретическое |               0.0494326591              |\n",
            "|  Эмпирическое |               0.0494557321              |\n",
            "+---------------+-----------------------------------------+\n"
          ]
        }
      ]
    }
  ]
}