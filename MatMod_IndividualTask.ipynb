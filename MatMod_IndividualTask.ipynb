{
  "nbformat": 4,
  "nbformat_minor": 0,
  "metadata": {
    "colab": {
      "name": "MatMod_IndividualTask.ipynb",
      "provenance": [],
      "collapsed_sections": []
    },
    "kernelspec": {
      "name": "python3",
      "display_name": "Python 3"
    },
    "language_info": {
      "name": "python"
    }
  },
  "cells": [
    {
      "cell_type": "code",
      "metadata": {
        "colab": {
          "base_uri": "https://localhost:8080/"
        },
        "id": "87HayJzV6Lhq",
        "outputId": "81b8418f-aeed-4451-94c5-724787b3885e"
      },
      "source": [
        "!pip install simpy"
      ],
      "execution_count": 91,
      "outputs": [
        {
          "output_type": "stream",
          "name": "stdout",
          "text": [
            "Requirement already satisfied: simpy in /usr/local/lib/python3.7/dist-packages (4.0.1)\n"
          ]
        }
      ]
    },
    {
      "cell_type": "code",
      "metadata": {
        "id": "NZACWRH4QR_I"
      },
      "source": [
        "import numpy as np\n",
        "import simpy as sp\n",
        "import statistics as st\n",
        "import matplotlib.pyplot as plt\n",
        "import prettytable as pt"
      ],
      "execution_count": 92,
      "outputs": []
    },
    {
      "cell_type": "markdown",
      "metadata": {
        "id": "I7go9cf46Gop"
      },
      "source": [
        "#Индивидуальное задание (Вариант 15)\n",
        "\n",
        "Рассматривается простейшая двухканальная СМО с «не терпеливыми» заявками. \n",
        "\n",
        "Интенсивность потока заявок $ \\lambda $ = 3 заявки/ч; \n",
        "\n",
        "среднее время обслуживания одной заявки $ t_{s} = 1 /\\mu $ = 1 ч; \n",
        "\n",
        "средний срок, в течение которого заявка «терпеливо» стоит в очереди, равен 0,5 ч. \n",
        "\n",
        "Подсчитать финальные вероятности состояний, ограничиваясь теми, которые не меньше 0,001. \n",
        "\n",
        "Найти характеристики эффективности СМО: абсолютную и относительную пропускные способности системы, среднее время пребывания заявки в системе, среднюю длину очереди."
      ]
    },
    {
      "cell_type": "markdown",
      "metadata": {
        "id": "maSFnVRm6KCu"
      },
      "source": [
        "Финальные вероятности\n",
        "\n",
        "$ \\rho = \\lambda / \\mu $\n",
        "\n",
        "$ \\beta = v / \\mu $\n",
        "\n",
        "$ p_{0} = (1 + \\frac{\\rho}{1!} + \\frac{\\rho^2}{2!} + ...+ \\frac{\\rho^n}{n!} + \\frac{\\rho^n}{n!} * \\sum_{i = 1}^\\infty \\frac{\\rho^i}{\\prod_{l = 1}^i (n + l\\beta)})^{-1} $\n",
        "\n",
        "Ошибка, возникающая от отбрасывания всех членов\n",
        "бесконечной суммы, начиная с $ r $-го, меньше, чем $ \\frac{\\rho^n}{n!} * \\frac{(\\rho / \\beta)^n}{r!} * e^{-\\rho/beta} $ \n",
        "\n",
        "$ p_{k} = \\frac{\\rho^k}{k!} * p_{0}, (k = \\bar{1, n}) $ \n",
        "\n",
        "$ p_{n + i} = p_{n} * \\frac{\\rho^i}{\\prod_{l = 1}^i (n + l\\beta)}, (i = \\bar{1, r-n}) $ "
      ]
    },
    {
      "cell_type": "code",
      "metadata": {
        "id": "FcLHOSxv6ksc"
      },
      "source": [
        "def get_theoretical_final_probabilities(n, rho, beta, r):\n",
        "  p_0 = (np.sum([(rho ** i) / np.math.factorial(i) for i in range(n + 1)]) + ((rho ** n) / np.math.factorial(n)) * (np.sum([(rho ** i) / (np.prod([n + l * beta for l in range(1, i + 1)])) for i in range(1, r + 1)]))) ** -1\n",
        "  final_probabilities = [p_0] + [((rho ** k) / np.math.factorial(k)) * p_0 for k in range(1, n + 1)]\n",
        "  p_n = final_probabilities[-1]\n",
        "  final_probabilities += [((rho ** i) / (np.prod([n + l * beta for l in range(1, i + 1)]))) * p_n for i in range(n - 1, r - n + 1 )]\n",
        "  return final_probabilities"
      ],
      "execution_count": 93,
      "outputs": []
    },
    {
      "cell_type": "code",
      "metadata": {
        "id": "CSsSPGh2QmRK"
      },
      "source": [
        "def find_r(n, rho, beta, _round):\n",
        "  r = 0\n",
        "  while not ((rho ** n) / np.math.factorial(n)) * (((rho / beta) ** r) / np.math.factorial(r)) * np.exp(-rho / beta) < 1/ (10 ** _round):\n",
        "    r +=1\n",
        "  return r"
      ],
      "execution_count": 94,
      "outputs": []
    },
    {
      "cell_type": "markdown",
      "metadata": {
        "id": "I3xq-WP1CMVH"
      },
      "source": [
        "Вероятность образования очереди\n",
        "\n",
        "$ p_{q} = \\sum_{i = 0}^{r - n -1} p_{n + i} $"
      ]
    },
    {
      "cell_type": "code",
      "metadata": {
        "id": "UEy1TCr7CQQX"
      },
      "source": [
        "def get_theoretical_queue_probability(n, r, final_probabilities):\n",
        "  return np.sum([final_probabilities[n + i] for i in range(0, r - n)])"
      ],
      "execution_count": 95,
      "outputs": []
    },
    {
      "cell_type": "markdown",
      "metadata": {
        "id": "Wc9ftx0spmyO"
      },
      "source": [
        "Вероятность отказа\n",
        "\n",
        "$ p_{r} = 1 - \\sum_{i = 0}^{r} p_{i} $"
      ]
    },
    {
      "cell_type": "code",
      "metadata": {
        "id": "qqyauuy4CT21"
      },
      "source": [
        "def get_theoretical_reject_probability(final_probabilities):\n",
        "  return 1 - np.sum(final_probabilities)"
      ],
      "execution_count": 96,
      "outputs": []
    },
    {
      "cell_type": "markdown",
      "metadata": {
        "id": "JBKs7NTTCx24"
      },
      "source": [
        "Среднее число активных каналов\n",
        "\n",
        "Среднее число активных каналов можно подсчитать как математическое ожидание случайной величины K (число занятых каналов) с\n",
        "возможными значениями $ 1, 2, ..., n $ и соответствующими вероятностями $ p_{0}, p_{1}, ...,p_{n -1}, [1 - (p_{0}, p_{1}, ...,p_{n -1})] $ \n",
        "\n",
        "$ k = \\sum_{i = 0}^{n - 1 } i * p_{i} + n *( 1 - \\sum_{i = 1}^{n -1} p_{i}) $"
      ]
    },
    {
      "cell_type": "code",
      "metadata": {
        "id": "K8uBBJRmC0Fc"
      },
      "source": [
        "def get_theoretical_average_active_channal_count(final_probabilities, n):\n",
        "  return np.sum([(i * final_probabilities[i]) for i in range(0, n)]) + n * (1 - np.sum(final_probabilities[:n]))"
      ],
      "execution_count": 97,
      "outputs": []
    },
    {
      "cell_type": "markdown",
      "metadata": {
        "id": "b1WO4zbFCgEs"
      },
      "source": [
        "Абсолютная пропускная способность\n",
        "\n",
        "$ A = k * \\mu $"
      ]
    },
    {
      "cell_type": "code",
      "metadata": {
        "id": "EJeF-EeqCh98"
      },
      "source": [
        "def get_theoretical_absolute_bandwidth(average_active_channal_count, mu):\n",
        "  return mu * average_active_channal_count"
      ],
      "execution_count": 98,
      "outputs": []
    },
    {
      "cell_type": "markdown",
      "metadata": {
        "id": "J0mZj4pfCZKB"
      },
      "source": [
        "Относитальная пропускная способность\n",
        "\n",
        "$ Q = A / \\lambda $"
      ]
    },
    {
      "cell_type": "code",
      "metadata": {
        "id": "1NkQRxkVCdyU"
      },
      "source": [
        "def get_theoretical_relative_bandwidth(absolute_bandwidth, _lambda):\n",
        "  return absolute_bandwidth / _lambda"
      ],
      "execution_count": 99,
      "outputs": []
    },
    {
      "cell_type": "markdown",
      "metadata": {
        "id": "ItDN-5PrCmfX"
      },
      "source": [
        "Среднее число элементов в очереди\n",
        "\n",
        "$ L_{q} = (\\rho - k) / \\beta $"
      ]
    },
    {
      "cell_type": "code",
      "metadata": {
        "id": "sd1H0rSgCqnU"
      },
      "source": [
        "def get_theoretical_average_queue_items_count(rho, average_active_channal_count, beta):\n",
        "  return (rho - average_active_channal_count) / beta"
      ],
      "execution_count": 100,
      "outputs": []
    },
    {
      "cell_type": "markdown",
      "metadata": {
        "id": "NjhdFTEiCt1Y"
      },
      "source": [
        "Среднее число элементов в СМО\n",
        "\n",
        "$ L_{qs} = L_{q} + \\bar{k} $"
      ]
    },
    {
      "cell_type": "code",
      "metadata": {
        "id": "NkB1rvIrCv9Y"
      },
      "source": [
        "def get_theoretical_average_queue_system_items_count(average_queue_items_count, average_active_channal_count):\n",
        "  return average_queue_items_count + average_active_channal_count"
      ],
      "execution_count": 101,
      "outputs": []
    },
    {
      "cell_type": "markdown",
      "metadata": {
        "id": "MjD1j4B_C2tn"
      },
      "source": [
        "Среднее время пребывания элемента в очереди\n",
        "\n",
        "$ T_{q} = L_{q} / \\lambda $"
      ]
    },
    {
      "cell_type": "code",
      "metadata": {
        "id": "UNo1aPd4C3B2"
      },
      "source": [
        "def get_theoretical_average_queue_items_time(reject_probability, _lambda):\n",
        "  return reject_probability / _lambda"
      ],
      "execution_count": 102,
      "outputs": []
    },
    {
      "cell_type": "markdown",
      "metadata": {
        "id": "Gt6l8k1dC7l7"
      },
      "source": [
        "Среднее время пребывания элемента в СМО\n",
        "\n",
        "$ T_{qs} = L_{qs} / \\lambda $"
      ]
    },
    {
      "cell_type": "code",
      "metadata": {
        "id": "d4wmvhc4C7ul"
      },
      "source": [
        "def get_theoretical_average_queue_system_items_time(average_queue_system_items_count, _lambda):\n",
        "  return average_queue_system_items_count / _lambda"
      ],
      "execution_count": 103,
      "outputs": []
    },
    {
      "cell_type": "code",
      "metadata": {
        "id": "2oYgBTa9DIu_"
      },
      "source": [
        "def get_theoretical_info(n, _lambda, mu, v, _round):\n",
        "  rho = _lambda / mu\n",
        "  beta = v / mu\n",
        "  r = find_r(n, rho, beta, _round)\n",
        "  final_probabilities = get_theoretical_final_probabilities(n, rho, beta, r)\n",
        "  queue_probability = np.around(get_theoretical_queue_probability(n, r, final_probabilities), _round)\n",
        "  reject_probability = np.around(get_theoretical_reject_probability(final_probabilities), _round)\n",
        "  average_active_channal_count = np.around(get_theoretical_average_active_channal_count(final_probabilities, n), _round) \n",
        "  absolute_bandwidth = np.around(get_theoretical_absolute_bandwidth(average_active_channal_count, mu), _round)\n",
        "  relative_bandwidth = np.around(get_theoretical_relative_bandwidth(absolute_bandwidth, _lambda), _round)\n",
        "  average_queue_items_count = np.around(get_theoretical_average_queue_items_count(rho, average_active_channal_count, beta), _round)\n",
        "  average_queue_system_items_count = np.around(get_theoretical_average_queue_system_items_count(average_queue_items_count, average_active_channal_count), _round)\n",
        "  average_queue_items_time = np.around(get_theoretical_average_queue_items_time(average_queue_items_count, _lambda), _round)\n",
        "  average_queue_system_items_time = np.around(get_theoretical_average_queue_system_items_time(average_queue_system_items_count, _lambda), _round)\n",
        "  return np.around(final_probabilities, _round), queue_probability, reject_probability, relative_bandwidth, absolute_bandwidth, average_queue_items_count, average_queue_system_items_count, average_active_channal_count, average_queue_items_time, average_queue_system_items_time"
      ],
      "execution_count": 104,
      "outputs": []
    },
    {
      "cell_type": "code",
      "metadata": {
        "id": "g8gnBAjFQsrL"
      },
      "source": [
        "class QueueSystem(object):\n",
        "  def __init__(self, env, n, _lambda, mu, v): \n",
        "    self.n = n\n",
        "    self._lambda = _lambda\n",
        "    self.mu = mu\n",
        "    self.v = v\n",
        "\n",
        "    self.counts = []\n",
        "    self.times = []\n",
        "    self.queue_counts = []\n",
        "    self.queue_times = []\n",
        "    \n",
        "    self.serve_items = []\n",
        "    self.reject_items = []\n",
        "    \n",
        "    self.env = env\n",
        "    self.resources = sp.Resource(env, n)\n",
        "\n",
        "  def serve(self):\n",
        "    yield self.env.timeout(np.random.exponential(1.0 / self.mu))\n",
        "\n",
        "  def wait(self):\n",
        "    yield self.env.timeout(np.random.exponential(1.0 / self.v))\n",
        "\n",
        "  def get_workload(self):\n",
        "    return self.resources.count\n",
        "  \n",
        "  def get_queue_len(self):\n",
        "    return len(self.resources.queue)\n",
        "\n",
        "  def start(self, action):\n",
        "    while True:\n",
        "      yield self.env.timeout(np.random.exponential(1 / self._lambda))\n",
        "      self.env.process(action(self))"
      ],
      "execution_count": 105,
      "outputs": []
    },
    {
      "cell_type": "markdown",
      "metadata": {
        "id": "7OyY8WE3nVb7"
      },
      "source": [
        "Финальные вероятности"
      ]
    },
    {
      "cell_type": "code",
      "metadata": {
        "id": "khQqM-wFnUuk"
      },
      "source": [
        "def get_experimental_final_probabilities(queue_system: QueueSystem, _round):\n",
        "  items = np.array(queue_system.reject_items + queue_system.serve_items)\n",
        "  final_probabilities = []\n",
        "  r = 1\n",
        "  while True:\n",
        "    probability  = (len(items[items == r]) / len(items))\n",
        "    if np.around(probability, _round) >= 1 / 10 ** _round:\n",
        "      final_probabilities.append(probability)\n",
        "      r += 1\n",
        "    else: \n",
        "      break\n",
        "  return final_probabilities, r"
      ],
      "execution_count": 106,
      "outputs": []
    },
    {
      "cell_type": "markdown",
      "metadata": {
        "id": "bHSBdQV2naJ3"
      },
      "source": [
        "Вероятность образования очереди"
      ]
    },
    {
      "cell_type": "code",
      "metadata": {
        "id": "RwwAczrfnb1D"
      },
      "source": [
        "def get_experimental_queue_probability(final_probabilities, n, r):\n",
        "  return np.sum(final_probabilities[n:r])"
      ],
      "execution_count": 107,
      "outputs": []
    },
    {
      "cell_type": "markdown",
      "metadata": {
        "id": "2uQ27OJknfNG"
      },
      "source": [
        "Вероятность отказа"
      ]
    },
    {
      "cell_type": "code",
      "metadata": {
        "id": "Dvl57emanfWB"
      },
      "source": [
        "def get_experimental_reject_probability(queue_system: QueueSystem, r):\n",
        "  items = np.array(queue_system.reject_items + queue_system.serve_items)\n",
        "  return (len(items[items == r]) / len(items))"
      ],
      "execution_count": 108,
      "outputs": []
    },
    {
      "cell_type": "markdown",
      "metadata": {
        "id": "XV1j_DqXn0FO"
      },
      "source": [
        "Среднее число активных каналов"
      ]
    },
    {
      "cell_type": "code",
      "metadata": {
        "id": "GQaq8b9Rn0NH"
      },
      "source": [
        "def get_experimental_average_active_channal_count(final_probabilities, n):\n",
        "  return np.sum([(i * final_probabilities[i]) for i in range(0, n)]) + n * (1 - np.sum(final_probabilities[:n]))"
      ],
      "execution_count": 109,
      "outputs": []
    },
    {
      "cell_type": "markdown",
      "metadata": {
        "id": "j2XXdE2cnftJ"
      },
      "source": [
        "Абсолютная пропускная способность"
      ]
    },
    {
      "cell_type": "code",
      "metadata": {
        "id": "H2VymqnAnfzY"
      },
      "source": [
        "def get_experimental_absolute_bandwidth(average_active_channal_count, mu):\n",
        "  return average_active_channal_count * mu"
      ],
      "execution_count": 110,
      "outputs": []
    },
    {
      "cell_type": "markdown",
      "metadata": {
        "id": "Pjwd3Q1BnfdT"
      },
      "source": [
        "Относитальная пропускная способность"
      ]
    },
    {
      "cell_type": "code",
      "metadata": {
        "id": "NY7Jw9PcnflZ"
      },
      "source": [
        "def get_experimental_relative_bandwidth(absolute_bandwidth, _lambda):\n",
        "  return absolute_bandwidth / _lambda"
      ],
      "execution_count": 111,
      "outputs": []
    },
    {
      "cell_type": "markdown",
      "metadata": {
        "id": "zIdaV_4Dnf7d"
      },
      "source": [
        "Среднее число элементов в очереди"
      ]
    },
    {
      "cell_type": "code",
      "metadata": {
        "id": "lLDHSHZwngCP"
      },
      "source": [
        "def get_experimental_average_queue_items_count(queue_system: QueueSystem):\n",
        "  return st.mean(queue_system.queue_counts)"
      ],
      "execution_count": 112,
      "outputs": []
    },
    {
      "cell_type": "markdown",
      "metadata": {
        "id": "lgv55yptngI3"
      },
      "source": [
        "Среднее число элементов в СМО"
      ]
    },
    {
      "cell_type": "code",
      "metadata": {
        "id": "RPufV1YEngPI"
      },
      "source": [
        "def get_experimental_average_queue_system_items_count(queue_system: QueueSystem):\n",
        "  return st.mean(queue_system.counts)"
      ],
      "execution_count": 113,
      "outputs": []
    },
    {
      "cell_type": "markdown",
      "metadata": {
        "id": "YU_-UkdOn0Uf"
      },
      "source": [
        "Среднее время пребывания элемента в очереди"
      ]
    },
    {
      "cell_type": "code",
      "metadata": {
        "id": "YMdeauEhn0bx"
      },
      "source": [
        "def get_experimental_average_queue_items_time(queue_system: QueueSystem):\n",
        "  return st.mean(queue_system.queue_times)"
      ],
      "execution_count": 114,
      "outputs": []
    },
    {
      "cell_type": "markdown",
      "metadata": {
        "id": "P-1fh2uZn0iV"
      },
      "source": [
        "Среднее время пребывания элемента в СМО"
      ]
    },
    {
      "cell_type": "code",
      "metadata": {
        "id": "9pFWhdc6n0pB"
      },
      "source": [
        "def get_experimental_average_queue_system_items_time(queue_system: QueueSystem):\n",
        "  return st.mean(queue_system.times)"
      ],
      "execution_count": 115,
      "outputs": []
    },
    {
      "cell_type": "code",
      "metadata": {
        "id": "zMaMeOBgn9FW"
      },
      "source": [
        "def get_experimental_info(queue_system: QueueSystem, _round):\n",
        "  final_probabilities, r = get_experimental_final_probabilities(queue_system, _round)\n",
        "  queue_probability = get_experimental_queue_probability(final_probabilities, queue_system.n, r)\n",
        "  reject_probability = get_experimental_reject_probability(queue_system, r)\n",
        "  average_active_channal_count = get_experimental_average_active_channal_count(final_probabilities, queue_system.n) \n",
        "  absolute_bandwidth = get_experimental_absolute_bandwidth(average_active_channal_count, queue_system.mu)\n",
        "  relative_bandwidth = get_experimental_relative_bandwidth(absolute_bandwidth, queue_system._lambda)\n",
        "  average_queue_items_count = get_experimental_average_queue_items_count(queue_system) \n",
        "  average_queue_system_items_count = get_experimental_average_queue_system_items_count(queue_system) \n",
        "  average_queue_items_time = get_experimental_average_queue_items_time(queue_system) \n",
        "  average_queue_system_items_time = get_experimental_average_queue_system_items_time(queue_system)\n",
        "  return final_probabilities, queue_probability, reject_probability, relative_bandwidth, absolute_bandwidth, average_queue_items_count, average_queue_system_items_count, average_active_channal_count, average_queue_items_time, average_queue_system_items_time"
      ],
      "execution_count": 116,
      "outputs": []
    },
    {
      "cell_type": "code",
      "metadata": {
        "id": "-QOb7o0JQy-z"
      },
      "source": [
        "def serve(queue_system: QueueSystem):\n",
        "  queue_len = queue_system.get_queue_len()\n",
        "  qn_count = queue_system.get_workload()\n",
        "  with queue_system.resources.request() as request:\n",
        "    queue_current_len = queue_system.get_queue_len()\n",
        "    qn_current_count = queue_system.get_workload()\n",
        "    queue_system.queue_counts.append(queue_len)\n",
        "    queue_system.counts.append(queue_len + qn_count)\n",
        "    start = queue_system.env.now\n",
        "    response = yield request | queue_system.env.process(queue_system.wait())\n",
        "    queue_system.queue_times.append(queue_system.env.now - start)\n",
        "    if request in response:\n",
        "      yield queue_system.env.process(queue_system.serve())\n",
        "      queue_system.serve_items.append(queue_current_len + qn_current_count)\n",
        "    else:\n",
        "      queue_system.reject_items.append(queue_current_len + qn_current_count)\n",
        "    queue_system.times.append(queue_system.env.now - start)"
      ],
      "execution_count": 117,
      "outputs": []
    },
    {
      "cell_type": "code",
      "metadata": {
        "id": "sROTSmzYQ2U_"
      },
      "source": [
        "def test_case(n, _lambda, mu, v, time, _round):\n",
        "  env = sp.Environment()\n",
        "  queue_system = QueueSystem(env, n, _lambda, mu, v)\n",
        "  env.process(queue_system.start(serve))\n",
        "  env.run(until = time)\n",
        "  \n",
        "  theoretical_info = (get_theoretical_info(n, _lambda, mu, v, _round))\n",
        "  experimental_info = (get_experimental_info(queue_system, _round))\n",
        "  \n",
        "  final_probabilities_info = pt.PrettyTable()\n",
        "  final_probabilities_info.add_column(\"Теоретические финальные вероятности\", [round(i, _round) for i in theoretical_info[0]])\n",
        "  final_probabilities_info.add_column(\"Эмпирические финальные вероятности\", [round(i, _round) for i in experimental_info[0]])\n",
        "  print(final_probabilities_info)\n",
        "  \n",
        "  plot_histograms(theoretical_info[0], experimental_info[0])\n",
        "\n",
        "  field_names = [\"Вероятность образования очереди\", \n",
        "                 \"Вероятность отказа\", \n",
        "                 \"Относитальная пропускная способность\", \n",
        "                 \"Абсолютная пропускная способность\", \n",
        "                 \"Среднее число элементов в очереди\",\n",
        "                 \"Среднее число элементов в СМО\",\n",
        "                 \"Среднее число активных каналов\",\n",
        "                 \"Среднее время пребывания элемента в очереди\",\n",
        "                 \"Среднее время пребывания элемента в СМО\"]\n",
        "  \n",
        "  for index, value in enumerate(field_names):\n",
        "    info = pt.PrettyTable()\n",
        "    info.field_names = [\"Исследование\", value]\n",
        "    info.add_row([\"Теоретическое\", np.around(theoretical_info[index + 1], _round)])\n",
        "    info.add_row([\"Эмпирическое\", np.around(experimental_info[index + 1], _round)])\n",
        "    print(info)\n"
      ],
      "execution_count": 118,
      "outputs": []
    },
    {
      "cell_type": "code",
      "metadata": {
        "id": "DbEom6Ha0MUN"
      },
      "source": [
        "def plot_histograms(theoretical_probabilities, experimental_probabilities):\n",
        "    plt.style.use('default')\n",
        "    fig, (ax1, ax2, ax3) = plt.subplots(1, 3, figsize=(25, 5))\n",
        "    \n",
        "    ax1.set_title('Теоретические финальные вероятности')\n",
        "    ax1.bar(range(len(theoretical_probabilities)), theoretical_probabilities, width = 0.2)\n",
        "    \n",
        "    ax2.set_title('Эмпирические финальные вероятности')\n",
        "    ax2.bar(range(len(experimental_probabilities)), experimental_probabilities, width = 0.2)\n",
        "\n",
        "    ax3.set_title('Финальные вероятности')\n",
        "    ax3.bar(range(len(theoretical_probabilities)), theoretical_probabilities, width = 0.3)\n",
        "    ax3.bar(range(len(experimental_probabilities)), experimental_probabilities, width = 0.1)\n",
        "    \n",
        "    plt.show()"
      ],
      "execution_count": 119,
      "outputs": []
    },
    {
      "cell_type": "code",
      "metadata": {
        "colab": {
          "base_uri": "https://localhost:8080/",
          "height": 1000
        },
        "id": "fYUvjKmOgf3j",
        "outputId": "15287e53-0b3c-498c-827a-fd0b008c7c9a"
      },
      "source": [
        "test_case(2, 3, 1, 2, 6000, 3)"
      ],
      "execution_count": 120,
      "outputs": [
        {
          "output_type": "stream",
          "name": "stdout",
          "text": [
            "+-------------------------------------+------------------------------------+\n",
            "| Теоретические финальные вероятности | Эмпирические финальные вероятности |\n",
            "+-------------------------------------+------------------------------------+\n",
            "|                0.069                |               0.068                |\n",
            "|                0.208                |               0.208                |\n",
            "|                0.312                |               0.318                |\n",
            "|                0.234                |               0.231                |\n",
            "|                0.117                |               0.115                |\n",
            "|                0.044                |               0.044                |\n",
            "|                0.013                |               0.013                |\n",
            "|                0.003                |               0.003                |\n",
            "|                0.001                |               0.001                |\n",
            "+-------------------------------------+------------------------------------+\n"
          ]
        },
        {
          "output_type": "display_data",
          "data": {
            "image/png": "[encoded data removed]",
            "text/plain": [
              "<Figure size 2500x500 with 3 Axes>"
            ]
          },
          "metadata": {}
        },
        {
          "output_type": "stream",
          "name": "stdout",
          "text": [
            "+---------------+---------------------------------+\n",
            "|  Исследование | Вероятность образования очереди |\n",
            "+---------------+---------------------------------+\n",
            "| Теоретическое |              0.722              |\n",
            "|  Эмпирическое |              0.724              |\n",
            "+---------------+---------------------------------+\n",
            "+---------------+--------------------+\n",
            "|  Исследование | Вероятность отказа |\n",
            "+---------------+--------------------+\n",
            "| Теоретическое |        0.0         |\n",
            "|  Эмпирическое |        0.0         |\n",
            "+---------------+--------------------+\n",
            "+---------------+--------------------------------------+\n",
            "|  Исследование | Относитальная пропускная способность |\n",
            "+---------------+--------------------------------------+\n",
            "| Теоретическое |                0.551                 |\n",
            "|  Эмпирическое |                0.552                 |\n",
            "+---------------+--------------------------------------+\n",
            "+---------------+-----------------------------------+\n",
            "|  Исследование | Абсолютная пропускная способность |\n",
            "+---------------+-----------------------------------+\n",
            "| Теоретическое |               1.654               |\n",
            "|  Эмпирическое |               1.656               |\n",
            "+---------------+-----------------------------------+\n",
            "+---------------+-----------------------------------+\n",
            "|  Исследование | Среднее число элементов в очереди |\n",
            "+---------------+-----------------------------------+\n",
            "| Теоретическое |               0.673               |\n",
            "|  Эмпирическое |               0.663               |\n",
            "+---------------+-----------------------------------+\n",
            "+---------------+-------------------------------+\n",
            "|  Исследование | Среднее число элементов в СМО |\n",
            "+---------------+-------------------------------+\n",
            "| Теоретическое |             2.327             |\n",
            "|  Эмпирическое |             2.319             |\n",
            "+---------------+-------------------------------+\n",
            "+---------------+--------------------------------+\n",
            "|  Исследование | Среднее число активных каналов |\n",
            "+---------------+--------------------------------+\n",
            "| Теоретическое |             1.654              |\n",
            "|  Эмпирическое |             1.656              |\n",
            "+---------------+--------------------------------+\n",
            "+---------------+---------------------------------------------+\n",
            "|  Исследование | Среднее время пребывания элемента в очереди |\n",
            "+---------------+---------------------------------------------+\n",
            "| Теоретическое |                    0.224                    |\n",
            "|  Эмпирическое |                    0.225                    |\n",
            "+---------------+---------------------------------------------+\n",
            "+---------------+-----------------------------------------+\n",
            "|  Исследование | Среднее время пребывания элемента в СМО |\n",
            "+---------------+-----------------------------------------+\n",
            "| Теоретическое |                  0.776                  |\n",
            "|  Эмпирическое |                  0.781                  |\n",
            "+---------------+-----------------------------------------+\n"
          ]
        }
      ]
    }
  ]
}