{
  "nbformat": 4,
  "nbformat_minor": 0,
  "metadata": {
    "colab": {
      "name": "MatMod1.ipynb",
      "provenance": [],
      "collapsed_sections": []
    },
    "kernelspec": {
      "name": "python3",
      "display_name": "Python 3"
    },
    "language_info": {
      "name": "python"
    }
  },
  "cells": [
    {
      "cell_type": "code",
      "metadata": {
        "id": "3H7trOqlS9pM"
      },
      "source": [
        "import numpy as np\n",
        "import matplotlib.pyplot as plt\n",
        "import scipy.stats as sc"
      ],
      "execution_count": 161,
      "outputs": []
    },
    {
      "cell_type": "code",
      "metadata": {
        "id": "z16a5LDxX9Lq"
      },
      "source": [
        "def rand(a):\n",
        "  a_cumsum = np.cumsum(a)\n",
        "  r = np.random.uniform(0, a_cumsum[-1])\n",
        "  return np.searchsorted(a_cumsum, r)"
      ],
      "execution_count": 162,
      "outputs": []
    },
    {
      "cell_type": "code",
      "metadata": {
        "id": "_GOYJBhqnNL-"
      },
      "source": [
        "def get_emp_matrix(a, b, p, n):\n",
        "  r_sums = np.sum(p, axis = 1)\n",
        "  emp_matrix = np.zeros(np.shape(p))\n",
        "  a_list = []\n",
        "  b_list = []\n",
        "  for k in range(n):\n",
        "    a_k_index = rand(r_sums)\n",
        "    p_a_k = r_sums[a_k_index]\n",
        "\n",
        "    p_ba_k = [(p[a_k_index][k] / p_a_k) for k in range(len(p[a_k_index]))]\n",
        "    b_k_index = rand(p_ba_k)\n",
        "\n",
        "    a_list.append(a[a_k_index])\n",
        "    b_list.append(b[b_k_index])\n",
        "\n",
        "    emp_matrix[a_k_index][b_k_index] +=  1 / n\n",
        "\n",
        "  return emp_matrix, a_list, b_list"
      ],
      "execution_count": 163,
      "outputs": []
    },
    {
      "cell_type": "code",
      "metadata": {
        "id": "QbIuqy0HHsO8"
      },
      "source": [
        "def plot_hist(a, b):\n",
        "  fig, ax = plt.subplots()\n",
        "  ax.bar(a, b)\n",
        "  plt.show()"
      ],
      "execution_count": 164,
      "outputs": []
    },
    {
      "cell_type": "markdown",
      "metadata": {
        "id": "UKiKgvh-ucqr"
      },
      "source": [
        "Точечная оценка метематического ожидания\n",
        "\n",
        "$m= \\frac{1}{n} \\sum_{i=1}^n x$\n"
      ]
    },
    {
      "cell_type": "code",
      "metadata": {
        "id": "XMARmlEofzw2"
      },
      "source": [
        "def get_point_m(x):\n",
        "  return np.sum(x) / len(x)"
      ],
      "execution_count": 165,
      "outputs": []
    },
    {
      "cell_type": "markdown",
      "metadata": {
        "id": "IXM8Cj4Uuorm"
      },
      "source": [
        "Точечная оценка дисперсии\n",
        "\n",
        "$d= \\frac{1}{n -1} \\sum_{i=1}^n (x_{n} - \\bar x)^2$"
      ]
    },
    {
      "cell_type": "code",
      "metadata": {
        "id": "znc6SeQxiv33"
      },
      "source": [
        "def get_point_d(x, m):\n",
        "  return np.sum(list(map(lambda i: (i - m) ** 2, x))) / (len(x) - 1)"
      ],
      "execution_count": 166,
      "outputs": []
    },
    {
      "cell_type": "markdown",
      "metadata": {
        "id": "Sz-ls2RWu80F"
      },
      "source": [
        "Интервальная оценка математического ожидания\n",
        "\n",
        "$ I_{a} = (m - t_{n-1, a/2} \\sqrt{D/n}; m + t_{n-1, a/2} \\sqrt{D/n})$"
      ]
    },
    {
      "cell_type": "code",
      "metadata": {
        "id": "nZ-zgOm3t0yg"
      },
      "source": [
        "def get_interval_m(m, d, n, a):\n",
        "  t = np.sqrt(d/n) * sc.t.ppf((1 + a)/2, n-1)\n",
        "  return m - t, m + t"
      ],
      "execution_count": 193,
      "outputs": []
    },
    {
      "cell_type": "markdown",
      "metadata": {
        "id": "x_sTa6jcvCZV"
      },
      "source": [
        "Интервальная оценка дисперсии\n",
        "\n",
        "$ I_{a} = (\\frac{(n -1)D}{X_{n-1, a/2}^2}: \\frac{(n-1)D}{X_{n-1, 1-a/2}^2})$"
      ]
    },
    {
      "cell_type": "code",
      "metadata": {
        "id": "T4vVcGhPt7bW"
      },
      "source": [
        "def get_interval_d(d, n, a):\n",
        "  return (n - 1) * d / sc.chi2.ppf( (1 + a) / 2, n - 1), (n - 1) * d / sc.chi2.ppf(a / 2, n - 1)"
      ],
      "execution_count": 210,
      "outputs": []
    },
    {
      "cell_type": "markdown",
      "metadata": {
        "id": "c4VYigLjRZUb"
      },
      "source": [
        "Коэффициент корреляции\n",
        "\n",
        "$r=\\frac{\\sum_{i=1}^n (x_{n} - \\bar x)(y_{n} -  \\bar y)}\n",
        "{(n)\\sigma_{x}\\sigma_{y}}$\n",
        "\n",
        "$n$ - размер выборки\n",
        "\n",
        "$\\bar x$ - математическое ожидание велечины $x$\n",
        "\n",
        "$\\bar y$ - математическое ожидание велечины $y$\n",
        "\n",
        "$\\sigma_{x}$ - стандартное отклонения велечины $x$\n",
        "\n",
        "$\\sigma_{y}$ - стандартное отклонения велечины $y$\n"
      ]
    },
    {
      "cell_type": "code",
      "metadata": {
        "id": "r8LrckYZQtga"
      },
      "source": [
        "def get_cor_coef(x, y, mx, my, dx, dy):\n",
        "  return np.sum(list(map(lambda i, j: (i - mx) * (j - my), x, y))) / ((len(x)) * np.sqrt(dx * dy))"
      ],
      "execution_count": 169,
      "outputs": []
    },
    {
      "cell_type": "markdown",
      "metadata": {
        "id": "BCs5Ugq2kBmq"
      },
      "source": [
        "Критерий Хи-квадрат Пирсона\n",
        "\n",
        "$X^2 = \\sum_{i=1}^n \\sum_{j=1}^m \\frac{(Q_{ij} - E_{ij})^2}\n",
        "{E_{ij}}$\n",
        "\n",
        "$O$ - наблюдаемые вероятности\n",
        "$E$ - ожидаемые вероятности"
      ]
    },
    {
      "cell_type": "code",
      "metadata": {
        "id": "oqJZZqlufII2"
      },
      "source": [
        "def chi2_test(th_matrix, emp_matrix, n, p = 0.05):\n",
        "  chi2 = np.sum(((emp_matrix - th_matrix) ** 2) / th_matrix)\n",
        "  r, c = np.shape(th_matrix) \n",
        "  f = (r - 1) * (c - 1)\n",
        "  critical = sc.chi2.ppf(p, f)\n",
        "  return critical >= chi2"
      ],
      "execution_count": 170,
      "outputs": []
    },
    {
      "cell_type": "code",
      "metadata": {
        "colab": {
          "base_uri": "https://localhost:8080/",
          "height": 1000
        },
        "id": "Ycma3FYpPBCs",
        "outputId": "a42a3e30-634f-4133-f0f0-58b03c9d325c"
      },
      "source": [
        "a = np.array([1, 2, 3, 4])\n",
        "b = np.array([1, 2, 3, 4])\n",
        "\n",
        "p = np.array([\n",
        "     [0.01, 0.04, 0.02, 0.03],\n",
        "     [0.04, 0.16, 0.08, 0.12],\n",
        "     [0.2, 0.08, 0.04, 0.06],\n",
        "     [0.03, 0.12, 0.06, 0.09],\n",
        "])\n",
        "\n",
        "n = 100000\n",
        "emp_matrix, a_list, b_list = get_emp_matrix(a, b, p, 10000)\n",
        "\n",
        "print('Теоретическая матрица')\n",
        "print(p)\n",
        "print('Эмпирическая матрица')\n",
        "print(emp_matrix)\n",
        "\n",
        "plot_hist(a, np.sum(emp_matrix, axis = 1))\n",
        "plot_hist(b, np.sum(emp_matrix, axis = 0))\n",
        "\n",
        "a_pm = get_point_m(a_list)\n",
        "b_pm = get_point_m(b_list)\n",
        "a_pd = get_point_d(a_list, a_pm)\n",
        "b_pd = get_point_d(b_list, b_pm)\n",
        "\n",
        "print('Точечные оценки')\n",
        "print('Математическое ожидани a:', a_pm)\n",
        "print('Математическое ожидани b:', b_pm)\n",
        "print('Дисперсия a:', a_pd)\n",
        "print('Дисперсия b:', b_pd)\n",
        "print()\n",
        "\n",
        "print('Интервальные оценки')\n",
        "for i in [0.90, 0.92, 0.94, 0.96, 0.98]:\n",
        "  a_im = get_interval_m(a_pm, a_pd, n, i)\n",
        "  b_im = get_interval_m(b_pm, b_pd, n, i)\n",
        "  a_id = get_interval_d(a_pd, n, i)\n",
        "  b_id = get_interval_d(b_pd, n, i)\n",
        "  print('Математическое ожидани a:', a_im, 'при вероятнояти', i)\n",
        "  print('Математическое ожидани b:', b_im, 'при вероятнояти', i)\n",
        "  print('Дисперсия a:', a_id, 'при вероятнояти', i)\n",
        "  print('Дисперсия b:', b_id, 'при вероятнояти', i)\n",
        "print()\n",
        "\n",
        "cor_coef  = get_cor_coef(a_list, b_list, a_pm, b_pm, a_pd, b_pd)\n",
        "\n",
        "print('Коэффициент корреляции:', cor_coef)\n",
        "print('Критерий Пирсона:', chi2_test(p, emp_matrix, n))"
      ],
      "execution_count": 212,
      "outputs": [
        {
          "output_type": "stream",
          "name": "stdout",
          "text": [
            "Теоретическая матрица\n",
            "[[0.01 0.04 0.02 0.03]\n",
            " [0.04 0.16 0.08 0.12]\n",
            " [0.2  0.08 0.04 0.06]\n",
            " [0.03 0.12 0.06 0.09]]\n",
            "Эмпирическая матрица\n",
            "[[0.008  0.0366 0.0177 0.0236]\n",
            " [0.0346 0.1303 0.0705 0.0987]\n",
            " [0.1695 0.0697 0.0334 0.051 ]\n",
            " [0.0251 0.103  0.052  0.0763]]\n"
          ]
        },
        {
          "output_type": "display_data",
          "data": {
            "image/png": "[encoded data removed]",
            "text/plain": [
              "<Figure size 432x288 with 1 Axes>"
            ]
          },
          "metadata": {
            "needs_background": "light"
          }
        },
        {
          "output_type": "display_data",
          "data": {
            "image/png": "[encoded data removed]",
            "text/plain": [
              "<Figure size 432x288 with 1 Axes>"
            ]
          },
          "metadata": {
            "needs_background": "light"
          }
        },
        {
          "output_type": "stream",
          "name": "stdout",
          "text": [
            "Точечные оценки\n",
            "Математическое ожидани a: 2.7505\n",
            "Математическое ожидани b: 2.4356\n",
            "Дисперсия a: 0.8719369436943694\n",
            "Дисперсия b: 1.2195745974597463\n",
            "\n",
            "Интервальные оценки\n",
            "Математическое ожидани a: (2.745642936072584, 2.7553570639274163) при вероятнояти 0.9\n",
            "Математическое ожидани b: (2.429855721799319, 2.441344278200681) при вероятнояти 0.9\n",
            "Дисперсия a: (0.8655600179717973, 0.8724329538550947) при вероятнояти 0.9\n",
            "Дисперсия b: (1.2106552178218277, 1.220268364820422) при вероятнояти 0.9\n",
            "Математическое ожидани a: (2.7453304203699576, 2.7556695796300428) при вероятнояти 0.92\n",
            "Математическое ожидани b: (2.4294861205000986, 2.4417138794999014) при вероятнояти 0.92\n",
            "Дисперсия a: (0.8651514790705094, 0.8723345129686845) при вероятнояти 0.92\n",
            "Дисперсия b: (1.2100837961500106, 1.2201306759596788) при вероятнояти 0.92\n",
            "Математическое ожидани a: (2.7449462208446858, 2.7560537791553146) при вероятнояти 0.94\n",
            "Математическое ожидани b: (2.4290317412720897, 2.4421682587279103) при вероятнояти 0.94\n",
            "Дисперсия a: (0.8646495847891348, 0.8722363356646916) при вероятнояти 0.94\n",
            "Дисперсия b: (1.2093817986941153, 1.2199933557705727) при вероятнояти 0.94\n",
            "Математическое ожидани a: (2.744435492312568, 2.7565645076874326) при вероятнояти 0.96\n",
            "Математическое ожидани b: (2.4284277206503, 2.4427722793497) при вероятнояти 0.96\n",
            "Дисперсия a: (0.8639830048545529, 0.8721383586841928) при вероятнояти 0.96\n",
            "Дисперсия b: (1.2084494560960966, 1.219856315773109) при вероятнояти 0.96\n",
            "Математическое ожидани a: (2.7436305153191256, 2.7573694846808747) при вероятнояти 0.98\n",
            "Математическое ожидани b: (2.4274757027513014, 2.4437242972486986) при вероятнояти 0.98\n",
            "Дисперсия a: (0.8629337832226269, 0.8720405196323964) при вероятнояти 0.98\n",
            "Дисперсия b: (1.2069819141383253, 1.2197194686959514) при вероятнояти 0.98\n",
            "\n",
            "Коэффициент корреляции: -0.05713467975069957\n",
            "Критерий Пирсона: True\n"
          ]
        }
      ]
    }
  ]
}